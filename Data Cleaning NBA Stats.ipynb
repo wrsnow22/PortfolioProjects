{
 "cells": [
  {
   "cell_type": "code",
   "execution_count": null,
   "id": "2377c866",
   "metadata": {},
   "outputs": [],
   "source": [
    "import pandas as pd"
   ]
  },
  {
   "cell_type": "code",
   "execution_count": null,
   "id": "d4e509e8",
   "metadata": {},
   "outputs": [],
   "source": [
    "# read in our files\n",
    "\n",
    "mvps = pd.read_csv(r\"C:\\Users\\wrsno\\Documents\\NBA_MVPs\\mvps.csv\")\n",
    "teams = pd.read_csv(r\"C:\\Users\\wrsno\\Documents\\NBA_MVPs\\teams\\teams.csv\")"
   ]
  },
  {
   "cell_type": "code",
   "execution_count": null,
   "id": "cd90bf71",
   "metadata": {},
   "outputs": [],
   "source": [
    "mvps\n"
   ]
  },
  {
   "cell_type": "code",
   "execution_count": null,
   "id": "94bb5231",
   "metadata": {},
   "outputs": [],
   "source": [
    "del mvps[\"Unnamed: 0\"]"
   ]
  },
  {
   "cell_type": "code",
   "execution_count": null,
   "id": "07a569cb",
   "metadata": {},
   "outputs": [],
   "source": [
    "mvps.info()\n"
   ]
  },
  {
   "cell_type": "code",
   "execution_count": null,
   "id": "086e9be8",
   "metadata": {},
   "outputs": [],
   "source": [
    "# Players that tied in voting have a 'T' next to their rank\n",
    "# We need to remove that to do some sorting\n",
    "\n",
    "mvps['Rank'] = mvps['Rank'].str.replace(\"T\", '', regex = False)"
   ]
  },
  {
   "cell_type": "code",
   "execution_count": null,
   "id": "bc15d05d",
   "metadata": {},
   "outputs": [],
   "source": [
    "mvps[mvps['Rank'] == '1'].sort_values(by = 'PTS', ascending = True).head(33)"
   ]
  },
  {
   "cell_type": "code",
   "execution_count": null,
   "id": "21bb4a4a",
   "metadata": {},
   "outputs": [],
   "source": [
    "# Need to remove * from team names in our team data frame\n",
    "# the * denotes teams that made the playoffs\n",
    "\n",
    "teams[\"Team\"] = teams[\"Team\"].str.replace(\"*\", \"\", regex = False)"
   ]
  },
  {
   "cell_type": "code",
   "execution_count": null,
   "id": "edfdb9e8",
   "metadata": {},
   "outputs": [],
   "source": [
    "# Because team names are stored as full names in the teams df and only abbreviations in the mvps df,\n",
    "# we need to find a way to relate the two so we can join our tables\n",
    "\n",
    "teams[\"Team\"].unique()"
   ]
  },
  {
   "cell_type": "code",
   "execution_count": null,
   "id": "159c4977",
   "metadata": {},
   "outputs": [],
   "source": [
    "mvps[\"Tm\"].unique()"
   ]
  },
  {
   "cell_type": "code",
   "execution_count": null,
   "id": "69eb697b",
   "metadata": {},
   "outputs": [],
   "source": [
    "# we are going to use a csv file that contains both the abbreviation\n",
    "# and the full name as a sort of key\n",
    "\n",
    "nicknames = {}\n",
    "\n",
    "with open(r\"C:\\Users\\wrsno\\Documents\\NBA_MVPs\\teams\\nicknames.txt\") as f:\n",
    "    lines = f.readlines()\n",
    "    for line in lines[1:]:                                      # skip the header row\n",
    "        abbrev,name = line.replace(\"\\n\", \"\").split(\",\")         # get rid of \"\\n\" and split on the comma\n",
    "        nicknames[abbrev] = name                                # assign to the nickname dictionary"
   ]
  },
  {
   "cell_type": "code",
   "execution_count": null,
   "id": "015a2062",
   "metadata": {},
   "outputs": [],
   "source": [
    "nicknames"
   ]
  },
  {
   "cell_type": "code",
   "execution_count": null,
   "id": "219617c1",
   "metadata": {},
   "outputs": [],
   "source": [
    "# assign the dictionary values to the keys in our mvps table\n",
    "# and name it a new column \"Team\" with the full team name\n",
    "# now we can join the mvps df to the teams df on the Team column\n",
    "mvps[\"Team\"] = mvps[\"Tm\"].map(nicknames)"
   ]
  },
  {
   "cell_type": "code",
   "execution_count": null,
   "id": "a8ea3899",
   "metadata": {},
   "outputs": [],
   "source": [
    "mvps"
   ]
  },
  {
   "cell_type": "code",
   "execution_count": null,
   "id": "bdc6ad0d",
   "metadata": {},
   "outputs": [],
   "source": [
    "# Check to see if there are any players whose Team is TOT, which indicates they played for \n",
    "# multiple teams that season, and won't have one of the Team abbreviations we just created\n",
    "\n",
    "mvps[mvps['Tm'].str.contains('TOT')]"
   ]
  },
  {
   "cell_type": "code",
   "execution_count": null,
   "id": "5991aa19",
   "metadata": {},
   "outputs": [],
   "source": [
    "# Merge our tables. Using a left join because there are a few players whose team is listed as TOT\n",
    "# in the mvps table and we don't want to lose them\n",
    "# if we did an inner join it would drop those values since there is no TOT team in the teams df\n",
    "\n",
    "stats = mvps.merge(teams, how = \"left\", on=[\"Team\", \"Year\"])"
   ]
  },
  {
   "cell_type": "code",
   "execution_count": null,
   "id": "0a4496ed",
   "metadata": {},
   "outputs": [],
   "source": [
    "# The number of rows in our new stats table should be the same as the mvps table\n",
    "stats"
   ]
  },
  {
   "cell_type": "code",
   "execution_count": null,
   "id": "c01fc22b",
   "metadata": {},
   "outputs": [],
   "source": [
    "del stats[\"Unnamed: 0\"]"
   ]
  },
  {
   "cell_type": "code",
   "execution_count": null,
   "id": "0a5d0f1e",
   "metadata": {},
   "outputs": [],
   "source": [
    "stats.dtypes"
   ]
  },
  {
   "cell_type": "code",
   "execution_count": null,
   "id": "f85c6414",
   "metadata": {},
   "outputs": [],
   "source": [
    "# the dash in GB means a team is 0 games back, so replace '-' with 0\n",
    "# so we can convert to a numeric data type\n",
    "stats[\"GB\"].unique()"
   ]
  },
  {
   "cell_type": "code",
   "execution_count": null,
   "id": "3923233d",
   "metadata": {},
   "outputs": [],
   "source": [
    "stats[\"GB\"] = stats[\"GB\"].str.replace(\"—\",\"0\")"
   ]
  },
  {
   "cell_type": "code",
   "execution_count": null,
   "id": "2d1f770b",
   "metadata": {},
   "outputs": [],
   "source": [
    "# Check Rank too, but I think we fixed this earlier when we dropped the 'T' from rankings\n",
    "stats[\"Rank\"].unique()"
   ]
  },
  {
   "cell_type": "code",
   "execution_count": null,
   "id": "98aab451",
   "metadata": {},
   "outputs": [],
   "source": [
    "stats[\"GB\"] = pd.to_numeric(stats[\"GB\"])\n",
    "stats[\"Rank\"] = pd.to_numeric(stats[\"Rank\"])"
   ]
  },
  {
   "cell_type": "code",
   "execution_count": null,
   "id": "6ead6c07",
   "metadata": {},
   "outputs": [],
   "source": [
    "stats.info()"
   ]
  },
  {
   "cell_type": "code",
   "execution_count": null,
   "id": "a2464292",
   "metadata": {},
   "outputs": [],
   "source": [
    "stats.to_csv(r\"C:\\Users\\wrsno\\Documents\\NBA_MVPs\\stats.csv\")"
   ]
  },
  {
   "cell_type": "code",
   "execution_count": null,
   "id": "464a1c72",
   "metadata": {},
   "outputs": [],
   "source": [
    "# Exploring which stats are most correlated with highest share of first place MVP votes\n",
    "\n",
    "stats.corr()[\"Share\"]"
   ]
  },
  {
   "cell_type": "code",
   "execution_count": null,
   "id": "0fc1ece2",
   "metadata": {},
   "outputs": [],
   "source": [
    "stats.corr()[\"Share\"].plot.bar()"
   ]
  },
  {
   "cell_type": "code",
   "execution_count": null,
   "id": "1f7ff5d4",
   "metadata": {},
   "outputs": [],
   "source": []
  }
 ],
 "metadata": {
  "kernelspec": {
   "display_name": "Python 3 (ipykernel)",
   "language": "python",
   "name": "python3"
  },
  "language_info": {
   "codemirror_mode": {
    "name": "ipython",
    "version": 3
   },
   "file_extension": ".py",
   "mimetype": "text/x-python",
   "name": "python",
   "nbconvert_exporter": "python",
   "pygments_lexer": "ipython3",
   "version": "3.11.4"
  }
 },
 "nbformat": 4,
 "nbformat_minor": 5
}
